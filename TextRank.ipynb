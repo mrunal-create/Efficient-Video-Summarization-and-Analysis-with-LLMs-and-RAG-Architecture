{
  "nbformat": 4,
  "nbformat_minor": 0,
  "metadata": {
    "colab": {
      "provenance": []
    },
    "kernelspec": {
      "name": "python3",
      "display_name": "Python 3"
    },
    "language_info": {
      "name": "python"
    }
  },
  "cells": [
    {
      "cell_type": "code",
      "execution_count": 2,
      "metadata": {
        "colab": {
          "base_uri": "https://localhost:8080/"
        },
        "id": "gduDcQaebpav",
        "outputId": "5b764223-f4b4-4fc9-9500-fdacc802e2cf"
      },
      "outputs": [
        {
          "output_type": "stream",
          "name": "stderr",
          "text": [
            "[nltk_data] Downloading package punkt to /root/nltk_data...\n",
            "[nltk_data]   Package punkt is already up-to-date!\n",
            "[nltk_data] Downloading package stopwords to /root/nltk_data...\n",
            "[nltk_data]   Package stopwords is already up-to-date!\n"
          ]
        },
        {
          "output_type": "execute_result",
          "data": {
            "text/plain": [
              "True"
            ]
          },
          "metadata": {},
          "execution_count": 2
        }
      ],
      "source": [
        "import nltk\n",
        "from nltk.tokenize import sent_tokenize, word_tokenize\n",
        "from nltk.corpus import stopwords\n",
        "from sklearn.metrics.pairwise import cosine_similarity\n",
        "import numpy as np\n",
        "\n",
        "nltk.download('punkt')\n",
        "nltk.download('stopwords')"
      ]
    },
    {
      "cell_type": "code",
      "source": [
        "def preprocess_text(text):\n",
        "    sentences = sent_tokenize(text)\n",
        "    words = [word_tokenize(sentence.lower()) for sentence in sentences]\n",
        "    stop_words = set(stopwords.words('english'))\n",
        "    words = [[word for word in sentence if word.isalnum() and word not in stop_words] for sentence in words]\n",
        "    return sentences, words"
      ],
      "metadata": {
        "id": "X4UVHB2dbxzI"
      },
      "execution_count": 3,
      "outputs": []
    },
    {
      "cell_type": "code",
      "source": [
        "def build_similarity_matrix(sentences, word_matrix):\n",
        "    similarity_matrix = np.zeros((len(sentences), len(sentences)))\n",
        "    for i in range(len(sentences)):\n",
        "        for j in range(len(sentences)):\n",
        "            if i != j:\n",
        "                similarity_matrix[i][j] = calculate_similarity(word_matrix[i], word_matrix[j])\n",
        "    return similarity_matrix"
      ],
      "metadata": {
        "id": "DuNrET3Db7_T"
      },
      "execution_count": 4,
      "outputs": []
    },
    {
      "cell_type": "code",
      "source": [
        "def calculate_similarity(sentence1, sentence2):\n",
        "    words1 = set(sentence1)\n",
        "    words2 = set(sentence2)\n",
        "    intersection = words1.intersection(words2)\n",
        "    union = words1.union(words2)\n",
        "    return len(intersection) / len(union)"
      ],
      "metadata": {
        "id": "rsqsHGzMb-Rt"
      },
      "execution_count": 5,
      "outputs": []
    },
    {
      "cell_type": "code",
      "source": [
        "def page_rank(similarity_matrix, damping=0.85, epsilon=1e-5, max_iter=100):\n",
        "    n = similarity_matrix.shape[0]\n",
        "    scores = np.ones(n) / n\n",
        "    for _ in range(max_iter):\n",
        "        prev_scores = np.copy(scores)\n",
        "        for i in range(n):\n",
        "            summation = np.sum(similarity_matrix[:, i] * prev_scores)\n",
        "            scores[i] = (1 - damping) / n + damping * summation\n",
        "        if np.linalg.norm(scores - prev_scores) < epsilon:\n",
        "            break\n",
        "    return scores"
      ],
      "metadata": {
        "id": "_6G7AAG7cAlq"
      },
      "execution_count": 6,
      "outputs": []
    },
    {
      "cell_type": "code",
      "source": [
        "def generate_summary(text, num_sentences=3):\n",
        "    sentences, words = preprocess_text(text)\n",
        "    similarity_matrix = build_similarity_matrix(sentences, words)\n",
        "    scores = page_rank(similarity_matrix)\n",
        "    ranked_sentences = [(scores[i], sentence) for i, sentence in enumerate(sentences)]\n",
        "    ranked_sentences.sort(key=lambda x: x[0], reverse=True)\n",
        "    summary = [sentence for _, sentence in ranked_sentences[:num_sentences]]\n",
        "    return ' '.join(summary)"
      ],
      "metadata": {
        "id": "dE7A-TP8cEBo"
      },
      "execution_count": 7,
      "outputs": []
    },
    {
      "cell_type": "code",
      "source": [
        "# Example usage:\n",
        "text = \"\"\"\n",
        "Text summarization is the process of distilling the most important information from a source (or sources) to produce an abridged version for a particular user (or users) and task (or tasks). There are generally two approaches to text summarization: extractive and abstractive. Extractive summarization involves selecting representative sentences from the source text, whereas abstractive summarization involves generating new sentences that capture the essence of the source text. TextRank is an algorithm for extractive text summarization that is based on PageRank, a graph-based ranking algorithm used by Google Search. It works by representing the text as a graph, with sentences as nodes and edges representing the similarity between sentences. The importance of each sentence is then computed using PageRank, and the top-ranked sentences are selected to form the summary.\n",
        "\"\"\""
      ],
      "metadata": {
        "id": "qYCoJQFQcGj0"
      },
      "execution_count": 15,
      "outputs": []
    },
    {
      "cell_type": "code",
      "source": [
        "summary = generate_summary(text)\n",
        "print(summary)"
      ],
      "metadata": {
        "colab": {
          "base_uri": "https://localhost:8080/"
        },
        "id": "6WtZegsVcOuE",
        "outputId": "1a7e989d-5a83-4782-d267-3800edf5046e"
      },
      "execution_count": 16,
      "outputs": [
        {
          "output_type": "stream",
          "name": "stdout",
          "text": [
            "Extractive summarization involves selecting representative sentences from the source text, whereas abstractive summarization involves generating new sentences that capture the essence of the source text. There are generally two approaches to text summarization: extractive and abstractive. TextRank is an algorithm for extractive text summarization that is based on PageRank, a graph-based ranking algorithm used by Google Search.\n"
          ]
        }
      ]
    },
    {
      "cell_type": "code",
      "source": [
        "text='''Santiago is a Shepherd who has a recurring dream which is supposedly prophetic. Inspired on learning this, he undertakes a journey to Egypt to discover the meaning of life and fulfill his destiny. During the course of his travels, he learns of his true purpose and meets many characters, including an “Alchemist”, that teach him valuable lessons about achieving his dreams. Santiago sets his sights on obtaining a certain kind of “treasure” for which he travels to Egypt. The key message is, “when you want something, all the universe conspires in helping you to achieve it.” Towards the final arc, Santiago gets robbed by bandits who end up revealing that the “treasure” he was looking for is buried in the place where his journey began. The end.'''"
      ],
      "metadata": {
        "id": "1CeJJTmFcQkN"
      },
      "execution_count": 10,
      "outputs": []
    },
    {
      "cell_type": "code",
      "source": [
        "summary = generate_summary(text)\n",
        "print(summary)"
      ],
      "metadata": {
        "colab": {
          "base_uri": "https://localhost:8080/"
        },
        "id": "IaRibp3occie",
        "outputId": "a997de6a-b106-44e8-fa47-68c1387c140e"
      },
      "execution_count": 13,
      "outputs": [
        {
          "output_type": "stream",
          "name": "stdout",
          "text": [
            "Santiago sets his sights on obtaining a certain kind of “treasure” for which he travels to Egypt. The key message is, “when you want something, all the universe conspires in helping you to achieve it.” Towards the final arc, Santiago gets robbed by bandits who end up revealing that the “treasure” he was looking for is buried in the place where his journey began. Santiago is a Shepherd who has a recurring dream which is supposedly prophetic.\n"
          ]
        }
      ]
    },
    {
      "cell_type": "code",
      "source": [
        "text = '''the last thing will end on is one of the most empirically validated sets of things for Behavior change and that's thinking about your goals in a very specific way setting your goals using a couple techniques that can make your goal achievement a lot easier so we all kind of think we have goals like some of you may have goals for some of the stuff you mentioned but to actually actualize those you have to consider them as goals research suggests that thinking about your goals and very specific ways can let you achieve them even moreand so a feel of the ways that you can think about them first start with the idea of figuring out what your goal is and so that is what I'm going to refer to as goal specificity and I mean something very specific haha about goal specificity it's this idea that you have some quantitative Precision about your goal like yes I'm going to meditate but how like where like am I going to meditate here in my house am I going to meditate by myself am I going to meditate today at 8:00 p.m. how many times a week am I going to meditate for how longlike the quantitative specificity with which you define your goal it turns out really seems to matter and it matters in the way that you kind of get specific about the tasks and the way you're going to do it that specificity seems to give you a plan of how to enact it and so we can see that across a bunch of different studies I'll just kind of give you one these folks had had participants doing a hand-eye coordination task and they wanted to set a goal of doing really well at it and so they just asked subjects if they had a specific performance goaldo you have a specific goal do you want to like either a percentage correct that you want to hit or a specific speed like what your specific goal some subjects had it some subjects didn't but if you look at later subjects performance what you find is those who have more specific goals had a better task strategy so when you have this really specific goal it kind of forces you to figure out how you're going to do it and it's actually figuring out how you're going to do it that seems to lead to better performance and so the upshot is for whatever goals you're thinking about make those goalsincredibly specific like the who what where when all those different parts write them down see it quantitatively and that will help you that's part number one knowing what the goal is part number two though is thinking about your goal and what it's actually going to give you and kind of what are the sort of problems that might lead you not to do it and so for a long time folks have thought in terms of like positive thinking like if you just think about your goals it's going to like be awesome there's a lot of like cheesy Stuff if you look at positive thinking on the internet itit's actually really helpful to think about the outcome in a lot of detail kind of indulge and think about those outcomes but to get the positive benefit from doing that you also have to do something else which is been the same amount of time as you do thinking about your goal and how awesome it would be to meet it thinking about some of the obstacles that might get in your way and this is a phenomenon that researchers have referred to as mental contrastyour positive future outcomes all everything how awesome it would be once you get your goal but you follow that up by thinking about what might be the things that get in your way how does this work well imagine you're kind of indulging is positive thinking and thinking about your goal you're like oh I want to get to the top of the mountain that would be so great if I went to the top of the mountain and you do that what's the outcome well you're kind of feeling good about it but you haven't really done anything to like make that goal get closer to happening because you kind ofneglected the fact that the pain in the butt to climb up a mountain and then maybe you need to like get right the good shoes and like you haven't spent any of your kind of cognitive effort figuring out the obstacles by contrast if you only think about the obstacles you kind of dwell on how hard it is then you're never going to get around to doing anything cuz you're going to be such a pain to get the shoes and so on like without the kind of thinking about how good the positive is going to be you don't get both however if you actually take the time to again intentionally and effort fully do both first indulge in how great it would be and thenwhat do you think about what the obstacles are it turns out that you now have visualized both things that you need to succeed and this is what mental contrasting is and there's a bunch of work suggesting that this technique seems to work in a variety of different contexts here's just one again kind of back to our healthy eating goals and he's researchers actually brought women in who had the goal of eating more fruits and vegetables and they taught them this mental contrasting technique they said okay imagine like what the great outcome will be if you actually eat your food is vegetables people visualizeI have to bring them with me or like I have to avoid the cookie or whatever but now they have both pieces and they can kind of see that they have to overcome these obstacles in order to get to that good thing and so the question is how does that work does it actually affect their healthy eating and so here's just a plot of how many fruits and vegetables these people are eating across the week and across time fromBaseline all the way over to 24 months later this is like a 2-year follow-up of these folks and what you find these circles are the mental contrasting case is that in the beginning just kind of thinking about or indulging is good enough but over time if you really want to keep overcoming your obstacles it seems like having both of those things in place helps and it seems to help even way down the line this is like 24 weeks out 24 months out excuse me that people are doing this stuff that this mental contrasting is still having this interesting effect so it seems like it works pretty well and sothis is the idea of goal visualization don't just visualize the good part take time to do both parts but both of these aren't enough unless you add in the third component to which I'm going to call Goal planning and we all know this like we could have had a really specific goal when I go to the dining hall I'm going to eat the like healthy apple right and we could have like you know about the outcome but sometimes you pop yourself into the situation when you're supposed to do the thing and there's this tempting thingmaybe you thought about the obstacle but when you're in the situation in the here and now now that situation is affecting you implicitly now it's like automatically like grab the pizza grab the pizza so how do you intervene on the automatic wave situations affect you without realizing it like how do you intervene on the fact that the candy jar just being present is going to mess you up and this is what a researcher Peter go with her has figured out he's figured out a way to not just have a plan but to have a plan so implicitly that it allows you toto get through situations like this automatically without having to recruit much willpower and it's a set of techniques that he refers to as implementation intentions basically the idea is that it's a strategy that you have in the form of a if then plan that can help you lead to better goal attainment but it works in some of the same ways as a mental contrasting where you just kind of practice it outside the situation like you just have time will you think and you visualize if I'm in the dining hall and I see the pizza I will turnPlay Walk Away grab the orange like if I'm in the dining hall and I see the pizza I will turn away and grab the orange you set it up in a really it sounds really silly but you set it up in a very specific if then plan and it turns out that are automatic systems can pay attention to that stuff like our automatic systems listen if you put it in with that level of specificity and it seems to actually increase habit change and performance one of the most powerful ways goats are talks about the implementation intentions is to help you remember stuff it's also a very powerful interveningI think of some specific action I'm going to do like when I grabbed the door knob to leave think Keys when I grabbed the door knob to leave think keys and like automatically as I grab the door knob all of a sudden that plan pops up and I can actually help me again it sounds like why would visualizing this if then plan help but it turns out empirically it just seems to work it seems to kind of act on our automatic urges and our automatic motor actions and so here's just one piece of evidence for this go with certain colleaguesI tried to look at whether or not people having implementation intentions this really specific if then plan could help them kind of do well on their New Year's resolutions and I kind of particular form of new resolutions your resolutions that you have after you get back from break so some of you may have experienced this you're going home for Christmas break and you're thinking about next semester and you're like next semester I'm going to have this goal some of those goals might be easy like some of them might actually be hard real things you want to change my question is what controls whether or not youwhether they were easier hard and they asked like do you have this implementation attention like have you really practiced like when I get back if this happens then I will do that and you just saw a naturally who had this sort of thing and then he looked back and tried to see whether or not people succeeded and here's what he finds if you look at the percentage of people who succeed for easy to implement goals having this implementation intention form which is the yellow bar helps little but not tremendouspercentage of succeeding about threefold for Heart of goals like really having it then plan that's going to actually help you out and so that's the kind of third piece which is the goal planning really having this if then plan but now the question is like okay I'm giving you all these strategies is there some easy fastSonic that you can use for putting all these strategies together for any set of goals that you have from the visual from the specificity to the visualizing to the obstacles to the planning and that is a technique that researchers have come up with that they call whoop which is an acronym for wish wish outcome obstacles and plan and it's a technique developed by Gabrielle outing in at the NYU who has this wonderful book on rethinking positive thinkingmethod of thinking the idea is you actually do some visualization like take a few minutes a day to visualize the stuff or you think about your wish you think about what your goal is as specific as possible like I want to meditate three times this week at 8:00 p.m. on Monday Wednesday Friday for this much time etc etc and I like actually spend two minutes thinking about that then I think what's the best possible outcome of that this firstdoes the sort of thing work kind of having a cutesy acronym for all four of these relevant Parts well Angela Duckworth and her colleagues tested this out in school children and so they picked a set of classrooms of disadvantaged 5th graders and they taught them this technique with the acronym of like think about your wish think about the outcome all these things and then they had each of the 5th graders pick a goal that was important to them that was related to school work and he could pick their own goal but it was kind of related to that and they had them do this whoop technique every morningplay woke up for a while to kind of think about any question is what happened to their outcome in terms of their GPA their School attendance and school conduct and so on again sounds like a Cheesy technique but when you look at the outcomes it's pretty impressive so this is this is whoop but they in this paper they call it mental contrast plus implementation intentions which is basically what is is both of those things together here's what happens to the student's GPA they're actually bumping up like a hole like potential grade level from a c minus to sorry plus to a B minus so it seems like on averageplay the blues singer GPA to be thinking about some academic goal they had in terms of their conduct they have better conduct rating by teachers Across Time by whooping every morning and in addition if you look at their absences you can get differences in the numbers of days that these kids are absent over time it seems like actually thinking about and doing these things over time is helping them what about an adult trying to get to their goals well again you can get people to do Studies by having them do healthy eating or exercise goals is just a little easier and so here's one on exercise goals they broughtmiddle-aged woman who wanted to increase their physical activity they taught them the whoop technique had them practice this what's your wish or physical activity what's your best outcome what are the obstacles what's your if then plan think about your important wish do all these specific parts and then they measured this not just a little bit of time but they actually measure their activity months and months later so this is the kind of thing that can stick over time and here's what they find in terms of physical activity women who are asked to do the whoop method versus some control where you think aboutyou know the physical activity is helpful for you and so on in the beginning where exercising a little bit more but then Weeks Later 4 Weeks Later 8 weeks later even 10 weeks later they're increasing their number of physical activities and minutes by about twice as much like exercising probably at least about twice a week when they hadn't really done that before so I really thinking about these things seems to be an important way to get your habits which again 10 weeks on like imagine you're you're the last resolution you made you know week one that might be great but 10 weeks on are you still doing that like this is a'''"
      ],
      "metadata": {
        "id": "4OB-ajBOcvY_"
      },
      "execution_count": 17,
      "outputs": []
    },
    {
      "cell_type": "code",
      "source": [
        "len(text)"
      ],
      "metadata": {
        "colab": {
          "base_uri": "https://localhost:8080/"
        },
        "id": "Tqt4svOgiqiL",
        "outputId": "154dc9cb-eae7-471a-e9de-71b8a837a16c"
      },
      "execution_count": 19,
      "outputs": [
        {
          "output_type": "execute_result",
          "data": {
            "text/plain": [
              "14261"
            ]
          },
          "metadata": {},
          "execution_count": 19
        }
      ]
    },
    {
      "cell_type": "code",
      "source": [
        "summary = generate_summary(text)\n",
        "print(summary)"
      ],
      "metadata": {
        "colab": {
          "base_uri": "https://localhost:8080/"
        },
        "id": "pe6nHM9zimtg",
        "outputId": "7817fac4-1d44-49e5-aba2-cb2f9a1cef20"
      },
      "execution_count": 18,
      "outputs": [
        {
          "output_type": "stream",
          "name": "stdout",
          "text": [
            "the last thing will end on is one of the most empirically validated sets of things for Behavior change and that's thinking about your goals in a very specific way setting your goals using a couple techniques that can make your goal achievement a lot easier so we all kind of think we have goals like some of you may have goals for some of the stuff you mentioned but to actually actualize those you have to consider them as goals research suggests that thinking about your goals and very specific ways can let you achieve them even moreand so a feel of the ways that you can think about them first start with the idea of figuring out what your goal is and so that is what I'm going to refer to as goal specificity and I mean something very specific haha about goal specificity it's this idea that you have some quantitative Precision about your goal like yes I'm going to meditate but how like where like am I going to meditate here in my house am I going to meditate by myself am I going to meditate today at 8:00 p.m. how many times a week am I going to meditate for how longlike the quantitative specificity with which you define your goal it turns out really seems to matter and it matters in the way that you kind of get specific about the tasks and the way you're going to do it that specificity seems to give you a plan of how to enact it and so we can see that across a bunch of different studies I'll just kind of give you one these folks had had participants doing a hand-eye coordination task and they wanted to set a goal of doing really well at it and so they just asked subjects if they had a specific performance goaldo you have a specific goal do you want to like either a percentage correct that you want to hit or a specific speed like what your specific goal some subjects had it some subjects didn't but if you look at later subjects performance what you find is those who have more specific goals had a better task strategy so when you have this really specific goal it kind of forces you to figure out how you're going to do it and it's actually figuring out how you're going to do it that seems to lead to better performance and so the upshot is for whatever goals you're thinking about make those goalsincredibly specific like the who what where when all those different parts write them down see it quantitatively and that will help you that's part number one knowing what the goal is part number two though is thinking about your goal and what it's actually going to give you and kind of what are the sort of problems that might lead you not to do it and so for a long time folks have thought in terms of like positive thinking like if you just think about your goals it's going to like be awesome there's a lot of like cheesy Stuff if you look at positive thinking on the internet itit's actually really helpful to think about the outcome in a lot of detail kind of indulge and think about those outcomes but to get the positive benefit from doing that you also have to do something else which is been the same amount of time as you do thinking about your goal and how awesome it would be to meet it thinking about some of the obstacles that might get in your way and this is a phenomenon that researchers have referred to as mental contrastyour positive future outcomes all everything how awesome it would be once you get your goal but you follow that up by thinking about what might be the things that get in your way how does this work well imagine you're kind of indulging is positive thinking and thinking about your goal you're like oh I want to get to the top of the mountain that would be so great if I went to the top of the mountain and you do that what's the outcome well you're kind of feeling good about it but you haven't really done anything to like make that goal get closer to happening because you kind ofneglected the fact that the pain in the butt to climb up a mountain and then maybe you need to like get right the good shoes and like you haven't spent any of your kind of cognitive effort figuring out the obstacles by contrast if you only think about the obstacles you kind of dwell on how hard it is then you're never going to get around to doing anything cuz you're going to be such a pain to get the shoes and so on like without the kind of thinking about how good the positive is going to be you don't get both however if you actually take the time to again intentionally and effort fully do both first indulge in how great it would be and thenwhat do you think about what the obstacles are it turns out that you now have visualized both things that you need to succeed and this is what mental contrasting is and there's a bunch of work suggesting that this technique seems to work in a variety of different contexts here's just one again kind of back to our healthy eating goals and he's researchers actually brought women in who had the goal of eating more fruits and vegetables and they taught them this mental contrasting technique they said okay imagine like what the great outcome will be if you actually eat your food is vegetables people visualizeI have to bring them with me or like I have to avoid the cookie or whatever but now they have both pieces and they can kind of see that they have to overcome these obstacles in order to get to that good thing and so the question is how does that work does it actually affect their healthy eating and so here's just a plot of how many fruits and vegetables these people are eating across the week and across time fromBaseline all the way over to 24 months later this is like a 2-year follow-up of these folks and what you find these circles are the mental contrasting case is that in the beginning just kind of thinking about or indulging is good enough but over time if you really want to keep overcoming your obstacles it seems like having both of those things in place helps and it seems to help even way down the line this is like 24 weeks out 24 months out excuse me that people are doing this stuff that this mental contrasting is still having this interesting effect so it seems like it works pretty well and sothis is the idea of goal visualization don't just visualize the good part take time to do both parts but both of these aren't enough unless you add in the third component to which I'm going to call Goal planning and we all know this like we could have had a really specific goal when I go to the dining hall I'm going to eat the like healthy apple right and we could have like you know about the outcome but sometimes you pop yourself into the situation when you're supposed to do the thing and there's this tempting thingmaybe you thought about the obstacle but when you're in the situation in the here and now now that situation is affecting you implicitly now it's like automatically like grab the pizza grab the pizza so how do you intervene on the automatic wave situations affect you without realizing it like how do you intervene on the fact that the candy jar just being present is going to mess you up and this is what a researcher Peter go with her has figured out he's figured out a way to not just have a plan but to have a plan so implicitly that it allows you toto get through situations like this automatically without having to recruit much willpower and it's a set of techniques that he refers to as implementation intentions basically the idea is that it's a strategy that you have in the form of a if then plan that can help you lead to better goal attainment but it works in some of the same ways as a mental contrasting where you just kind of practice it outside the situation like you just have time will you think and you visualize if I'm in the dining hall and I see the pizza I will turnPlay Walk Away grab the orange like if I'm in the dining hall and I see the pizza I will turn away and grab the orange you set it up in a really it sounds really silly but you set it up in a very specific if then plan and it turns out that are automatic systems can pay attention to that stuff like our automatic systems listen if you put it in with that level of specificity and it seems to actually increase habit change and performance one of the most powerful ways goats are talks about the implementation intentions is to help you remember stuff it's also a very powerful interveningI think of some specific action I'm going to do like when I grabbed the door knob to leave think Keys when I grabbed the door knob to leave think keys and like automatically as I grab the door knob all of a sudden that plan pops up and I can actually help me again it sounds like why would visualizing this if then plan help but it turns out empirically it just seems to work it seems to kind of act on our automatic urges and our automatic motor actions and so here's just one piece of evidence for this go with certain colleaguesI tried to look at whether or not people having implementation intentions this really specific if then plan could help them kind of do well on their New Year's resolutions and I kind of particular form of new resolutions your resolutions that you have after you get back from break so some of you may have experienced this you're going home for Christmas break and you're thinking about next semester and you're like next semester I'm going to have this goal some of those goals might be easy like some of them might actually be hard real things you want to change my question is what controls whether or not youwhether they were easier hard and they asked like do you have this implementation attention like have you really practiced like when I get back if this happens then I will do that and you just saw a naturally who had this sort of thing and then he looked back and tried to see whether or not people succeeded and here's what he finds if you look at the percentage of people who succeed for easy to implement goals having this implementation intention form which is the yellow bar helps little but not tremendouspercentage of succeeding about threefold for Heart of goals like really having it then plan that's going to actually help you out and so that's the kind of third piece which is the goal planning really having this if then plan but now the question is like okay I'm giving you all these strategies is there some easy fastSonic that you can use for putting all these strategies together for any set of goals that you have from the visual from the specificity to the visualizing to the obstacles to the planning and that is a technique that researchers have come up with that they call whoop which is an acronym for wish wish outcome obstacles and plan and it's a technique developed by Gabrielle outing in at the NYU who has this wonderful book on rethinking positive thinkingmethod of thinking the idea is you actually do some visualization like take a few minutes a day to visualize the stuff or you think about your wish you think about what your goal is as specific as possible like I want to meditate three times this week at 8:00 p.m. on Monday Wednesday Friday for this much time etc etc and I like actually spend two minutes thinking about that then I think what's the best possible outcome of that this firstdoes the sort of thing work kind of having a cutesy acronym for all four of these relevant Parts well Angela Duckworth and her colleagues tested this out in school children and so they picked a set of classrooms of disadvantaged 5th graders and they taught them this technique with the acronym of like think about your wish think about the outcome all these things and then they had each of the 5th graders pick a goal that was important to them that was related to school work and he could pick their own goal but it was kind of related to that and they had them do this whoop technique every morningplay woke up for a while to kind of think about any question is what happened to their outcome in terms of their GPA their School attendance and school conduct and so on again sounds like a Cheesy technique but when you look at the outcomes it's pretty impressive so this is this is whoop but they in this paper they call it mental contrast plus implementation intentions which is basically what is is both of those things together here's what happens to the student's GPA they're actually bumping up like a hole like potential grade level from a c minus to sorry plus to a B minus so it seems like on averageplay the blues singer GPA to be thinking about some academic goal they had in terms of their conduct they have better conduct rating by teachers Across Time by whooping every morning and in addition if you look at their absences you can get differences in the numbers of days that these kids are absent over time it seems like actually thinking about and doing these things over time is helping them what about an adult trying to get to their goals well again you can get people to do Studies by having them do healthy eating or exercise goals is just a little easier and so here's one on exercise goals they broughtmiddle-aged woman who wanted to increase their physical activity they taught them the whoop technique had them practice this what's your wish or physical activity what's your best outcome what are the obstacles what's your if then plan think about your important wish do all these specific parts and then they measured this not just a little bit of time but they actually measure their activity months and months later so this is the kind of thing that can stick over time and here's what they find in terms of physical activity women who are asked to do the whoop method versus some control where you think aboutyou know the physical activity is helpful for you and so on in the beginning where exercising a little bit more but then Weeks Later 4 Weeks Later 8 weeks later even 10 weeks later they're increasing their number of physical activities and minutes by about twice as much like exercising probably at least about twice a week when they hadn't really done that before so I really thinking about these things seems to be an important way to get your habits which again 10 weeks on like imagine you're you're the last resolution you made you know week one that might be great but 10 weeks on are you still doing that like this is a\n"
          ]
        }
      ]
    },
    {
      "cell_type": "code",
      "source": [
        "len(summary)"
      ],
      "metadata": {
        "colab": {
          "base_uri": "https://localhost:8080/"
        },
        "id": "f-tjivFCisbG",
        "outputId": "90afa3f2-a3eb-4134-8041-ffe0482d6dfc"
      },
      "execution_count": 20,
      "outputs": [
        {
          "output_type": "execute_result",
          "data": {
            "text/plain": [
              "14261"
            ]
          },
          "metadata": {},
          "execution_count": 20
        }
      ]
    },
    {
      "cell_type": "code",
      "source": [],
      "metadata": {
        "id": "RjxcO4V0itQA"
      },
      "execution_count": null,
      "outputs": []
    }
  ]
}