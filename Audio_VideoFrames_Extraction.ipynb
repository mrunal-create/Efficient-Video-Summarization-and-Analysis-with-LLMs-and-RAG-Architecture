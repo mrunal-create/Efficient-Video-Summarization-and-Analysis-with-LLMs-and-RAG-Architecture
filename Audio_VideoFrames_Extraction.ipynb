{
  "nbformat": 4,
  "nbformat_minor": 0,
  "metadata": {
    "colab": {
      "provenance": []
    },
    "kernelspec": {
      "name": "python3",
      "display_name": "Python 3"
    },
    "language_info": {
      "name": "python"
    }
  },
  "cells": [
    {
      "cell_type": "code",
      "execution_count": 2,
      "metadata": {
        "id": "RdVfgUs2TUmR",
        "colab": {
          "base_uri": "https://localhost:8080/"
        },
        "outputId": "bfa14f55-caaf-4e33-f026-471ea5e206bf"
      },
      "outputs": [
        {
          "output_type": "stream",
          "name": "stdout",
          "text": [
            "\u001b[?25l     \u001b[90m━━━━━━━━━━━━━━━━━━━━━━━━━━━━━━━━━━━━━━━━\u001b[0m \u001b[32m0.0/57.6 kB\u001b[0m \u001b[31m?\u001b[0m eta \u001b[36m-:--:--\u001b[0m\r\u001b[2K     \u001b[90m━━━━━━━━━━━━━━━━━━━━━━━━━━━━━━━━━━━━━━━━\u001b[0m \u001b[32m57.6/57.6 kB\u001b[0m \u001b[31m2.3 MB/s\u001b[0m eta \u001b[36m0:00:00\u001b[0m\n",
            "\u001b[?25h"
          ]
        }
      ],
      "source": [
        "!pip install moviepy pytube ffmpeg-python asyncffmpeg asynccpu --quiet"
      ]
    },
    {
      "cell_type": "code",
      "source": [
        "from pytube import YouTube\n",
        "import ffmpeg\n",
        "import requests\n",
        "from urllib.parse import urlparse\n",
        "import requests\n",
        "from bs4 import BeautifulSoup\n",
        "import json\n",
        "import os\n",
        "import warnings\n",
        "warnings.filterwarnings('ignore')\n",
        "from moviepy.editor import *\n",
        "import concurrent.futures\n",
        "from multiprocessing import process\n",
        "from threading import Thread\n",
        "from asynccpu import ProcessTaskPoolExecutor\n",
        "from asyncffmpeg import FFmpegCoroutineFactory, StreamSpec\n",
        "import asyncio\n",
        "import tarfile\n",
        "from zipfile import ZipFile"
      ],
      "metadata": {
        "id": "BfEHEnZYgdDB"
      },
      "execution_count": 1,
      "outputs": []
    },
    {
      "cell_type": "code",
      "source": [
        "from google.colab import drive\n",
        "\n",
        "drive.mount('/content/drive')"
      ],
      "metadata": {
        "colab": {
          "base_uri": "https://localhost:8080/"
        },
        "id": "kyirQH1PVpeF",
        "outputId": "96a6671b-011b-4b0f-ca45-8eccb0caf11d"
      },
      "execution_count": 4,
      "outputs": [
        {
          "output_type": "stream",
          "name": "stdout",
          "text": [
            "Mounted at /content/drive\n"
          ]
        }
      ]
    },
    {
      "cell_type": "code",
      "source": [
        "# Check if mp4 file is playable\n",
        "def is_mp4_playable(file_path):\n",
        "  try:\n",
        "      # Probe the file to get information about it\n",
        "      probe = ffmpeg.probe(file_path)\n",
        "      # Check if the file format is recognized as video\n",
        "      if 'streams' in probe and any(stream['codec_type'] == 'video' for stream in probe['streams']):\n",
        "          print(\"MP4 file is playable.\")\n",
        "          return True\n",
        "      else:\n",
        "          print(\"MP4 file is corrupt or non-playable.\")\n",
        "          return False\n",
        "  except ffmpeg.Error as e:\n",
        "      print(\"Error occurred:\", e.stderr)\n",
        "      return False"
      ],
      "metadata": {
        "id": "PeH9-VU-43Jx"
      },
      "execution_count": 2,
      "outputs": []
    },
    {
      "cell_type": "code",
      "source": [
        "# Extract audio from given video\n",
        "def extract_audio(video_url, output_folder):\n",
        "  if output_folder:\n",
        "    audio, err = (\n",
        "      ffmpeg\n",
        "      .input(video_url)\n",
        "      .output(\"pipe:\", format='mp3', acodec='libmp3lame', audio_bitrate='320k')\n",
        "      .run(capture_stdout=True)\n",
        "    )\n",
        "    with open(output_folder, 'wb') as f:\n",
        "        f.write(audio)\n",
        "    print(\"Audio extraction complete\")\n",
        "  else:\n",
        "    print(\"Audio extraction not done - no output file given\")"
      ],
      "metadata": {
        "id": "NZp5Ds-X6jlE"
      },
      "execution_count": 3,
      "outputs": []
    },
    {
      "cell_type": "code",
      "source": [
        "# Extract frames from given video\n",
        "def extract_frames(video_url, output_folder, fps=0.1):\n",
        "  if output_folder:\n",
        "    (\n",
        "        ffmpeg\n",
        "        .input(video_url)\n",
        "        .filter('fps', fps=fps)\n",
        "        .output(output_folder + '/frame%d.png', **{'qscale:v': 2})\n",
        "        .run()\n",
        "    )\n",
        "    print(\"video frames extraction complete\")\n",
        "  else:\n",
        "    print(\"Video frames extraction not done - no output file given\")"
      ],
      "metadata": {
        "id": "XiO2YqM1zw2h"
      },
      "execution_count": 4,
      "outputs": []
    },
    {
      "cell_type": "code",
      "source": [
        "# Process given video/webpage link to extract correct video path and make sure the video is accessible\n",
        "def process_video(link):\n",
        "\n",
        "  if len(urlparse(link).netloc) > 0:\n",
        "    if urlparse(link).netloc == \"www.youtube.com\":\n",
        "      yt = YouTube(link)\n",
        "      video_path = yt.streams[0].url\n",
        "      return video_path\n",
        "\n",
        "    elif urlparse(link).netloc == \"www.linkedin.com\":\n",
        "      r = requests.get(link)\n",
        "      soup = BeautifulSoup(r.content, 'html.parser')\n",
        "      data_linkedin = json.loads(soup.find('script', type='application/ld+json').text)\n",
        "      if data_linkedin['isAccessibleForFree'] == True:\n",
        "        video_path = json.loads(soup.video['data-sources'])[0]['src']\n",
        "        return video_path\n",
        "      else:\n",
        "        print(\"Sorry! Can't process video. Please make sure the video is free for access.\")\n",
        "        return\n",
        "\n",
        "    elif urlparse(link).netloc == \"www.coursera.org\":\n",
        "      r = requests.get(link)\n",
        "      soup = BeautifulSoup(r.content, 'html.parser')\n",
        "      data_coursera = json.loads(soup.find('script', type='application/ld+json').text)\n",
        "      video_path = data_coursera['@graph'][1]['contentURL']\n",
        "      return video_path\n",
        "\n",
        "    else:\n",
        "      print(\"Sorry! Can't process video. Please make sure the video link is valid.\")\n",
        "      return\n",
        "\n",
        "  else:\n",
        "    if(is_mp4_playable(link)):\n",
        "      video_path = link\n",
        "      return video_path\n",
        "    else:\n",
        "      print(\"Sorry! Can't process video. Please make sure the video file exists and is not corrupted.\")\n",
        "      return"
      ],
      "metadata": {
        "id": "rTYlQqzzYw2w"
      },
      "execution_count": 5,
      "outputs": []
    },
    {
      "cell_type": "code",
      "source": [
        "# Parallel process audio and frames extraction\n",
        "async def main(video_link, output_file_path_audio,output_file_path_frames):\n",
        "\n",
        "  video_path = process_video(video_link)\n",
        "  if video_path:\n",
        "      awaitables = [\n",
        "            asyncio.to_thread(extract_audio, video_path, output_file_path_audio),\n",
        "            asyncio.to_thread(extract_frames, video_path, output_file_path_frames)\n",
        "      ]\n",
        "      await asyncio.gather(*awaitables)"
      ],
      "metadata": {
        "id": "CxiKLYi-k2lL"
      },
      "execution_count": 6,
      "outputs": []
    },
    {
      "cell_type": "code",
      "source": [
        "# Testing out with an example video\n",
        "if __name__ == '__main__':\n",
        "  video_link=input(\"Video link: \")\n",
        "  output_file_path_audio=input(\"MP3 file path to store audio: \")\n",
        "  output_file_path_frames=input(\"Folder path to store video frames: \")\n",
        "  await main(video_link, output_file_path_audio,output_file_path_frames)"
      ],
      "metadata": {
        "colab": {
          "base_uri": "https://localhost:8080/"
        },
        "id": "vzYJCE8pk4ll",
        "outputId": "162b4448-f2de-49a2-88d1-77d8019057bf"
      },
      "execution_count": null,
      "outputs": [
        {
          "output_type": "stream",
          "name": "stdout",
          "text": [
            "https://www.youtube.com/watch?v=Pu5CNKweuHw\n",
            "/content/drive/My Drive/LLM_Project/youtube_audio_2.mp3\n",
            "/content/drive/My Drive/LLM_Project/frames\n",
            "video frames extraction complete\n",
            "Audio extraction complete\n"
          ]
        }
      ]
    },
    {
      "cell_type": "code",
      "source": [],
      "metadata": {
        "id": "cFWzuEaJAEGx"
      },
      "execution_count": null,
      "outputs": []
    },
    {
      "cell_type": "markdown",
      "source": [
        "### TVSum Dataset:"
      ],
      "metadata": {
        "id": "ATSWTHiyAEZR"
      }
    },
    {
      "cell_type": "code",
      "source": [
        "# Extracting TVSum data\n",
        "os.chdir('/content/drive/My Drive/')\n",
        "\n",
        "with tarfile.open(\"tvsum50_ver_1_1.tgz\", 'r:gz') as tar:\n",
        "    tar.extractall( path= \"/content/drive/My Drive/LLM_Project/tvsum\" )"
      ],
      "metadata": {
        "id": "6FNiE0eNk5I2"
      },
      "execution_count": 15,
      "outputs": []
    },
    {
      "cell_type": "code",
      "source": [
        "# Extracting videos from TVSum data\n",
        "os.chdir('/content/drive/MyDrive/LLM_Project/tvsum/ydata-tvsum50-v1_1/')\n",
        "\n",
        "with ZipFile(\"ydata-tvsum50-video.zip\", 'r') as zObject:\n",
        "    zObject.extractall( path= \"ydata-tvsum50-video\" )"
      ],
      "metadata": {
        "id": "i9O5LKL4k5Q8"
      },
      "execution_count": 17,
      "outputs": []
    },
    {
      "cell_type": "code",
      "source": [
        "# Getting list of videos\n",
        "video_path = '/content/drive/MyDrive/LLM_Project/tvsum/ydata-tvsum50-v1_1/ydata-tvsum50-video/video/'\n",
        "videos=os.listdir(video_path)"
      ],
      "metadata": {
        "id": "5nakqUdppkeh"
      },
      "execution_count": 10,
      "outputs": []
    },
    {
      "cell_type": "code",
      "source": [
        "# Extracting audio and frames from each video and storing in individual folders (This took around 13 min)\n",
        "if __name__ == '__main__':\n",
        "  for video in videos:\n",
        "    print(\"\\n\",video,\":\")\n",
        "    output_file_path_frames = '/content/drive/My Drive/LLM_Project/tvsum/ydata-tvsum50-v1_1/ydata-tvsum50-video/frames/'+video.split('.')[0]\n",
        "    output_file_path_audio = '/content/drive/My Drive/LLM_Project/tvsum/ydata-tvsum50-v1_1/ydata-tvsum50-video/audio'\n",
        "    if not os.path.exists(output_file_path_frames):\n",
        "      os.makedirs(output_file_path_frames)\n",
        "    if not os.path.exists(output_file_path_audio):\n",
        "      os.makedirs(output_file_path_audio)\n",
        "    await main(video_path+video, output_file_path_audio+'/'+video.split('.')[0]+'.mp3', output_file_path_frames)"
      ],
      "metadata": {
        "colab": {
          "base_uri": "https://localhost:8080/"
        },
        "id": "IYqkaEZqp2Nw",
        "outputId": "f8a95d66-68e4-4508-f3fd-09e7ac941757"
      },
      "execution_count": 25,
      "outputs": [
        {
          "output_type": "stream",
          "name": "stdout",
          "text": [
            "\n",
            " -esJrBWj2d8.mp4 :\n",
            "MP4 file is playable.\n",
            "video frames extraction complete\n",
            "Audio extraction complete\n",
            "\n",
            " 0tmA_C6XwfM.mp4 :\n",
            "MP4 file is playable.\n",
            "video frames extraction complete\n",
            "Audio extraction complete\n",
            "\n",
            " 37rzWOQsNIw.mp4 :\n",
            "MP4 file is playable.\n",
            "Audio extraction complete\n",
            "video frames extraction complete\n",
            "\n",
            " 3eYKfiOEJNs.mp4 :\n",
            "MP4 file is playable.\n",
            "video frames extraction complete\n",
            "Audio extraction complete\n",
            "\n",
            " 4wU_LUjG5Ic.mp4 :\n",
            "MP4 file is playable.\n",
            "video frames extraction complete\n",
            "Audio extraction complete\n",
            "\n",
            " 91IHQYk1IQM.mp4 :\n",
            "MP4 file is playable.\n",
            "Audio extraction complete\n",
            "video frames extraction complete\n",
            "\n",
            " 98MoyGZKHXc.mp4 :\n",
            "MP4 file is playable.\n",
            "video frames extraction complete\n",
            "Audio extraction complete\n",
            "\n",
            " _xMr-HKMfVA.mp4 :\n",
            "MP4 file is playable.\n",
            "video frames extraction complete\n",
            "Audio extraction complete\n",
            "\n",
            " akI8YFjEmUw.mp4 :\n",
            "MP4 file is playable.\n",
            "video frames extraction complete\n",
            "Audio extraction complete\n",
            "\n",
            " AwmHb44_ouw.mp4 :\n",
            "MP4 file is playable.\n",
            "video frames extraction complete\n",
            "Audio extraction complete\n",
            "\n",
            " b626MiF1ew4.mp4 :\n",
            "MP4 file is playable.\n",
            "video frames extraction complete\n",
            "Audio extraction complete\n",
            "\n",
            " Bhxk-O1Y7Ho.mp4 :\n",
            "MP4 file is playable.\n",
            "video frames extraction complete\n",
            "Audio extraction complete\n",
            "\n",
            " byxOvuiIJV0.mp4 :\n",
            "MP4 file is playable.\n",
            "video frames extraction complete\n",
            "Audio extraction complete\n",
            "\n",
            " cjibtmSLxQ4.mp4 :\n",
            "MP4 file is playable.\n",
            "video frames extraction complete\n",
            "Audio extraction complete\n",
            "\n",
            " E11zDS9XGzg.mp4 :\n",
            "MP4 file is playable.\n",
            "video frames extraction complete\n",
            "Audio extraction complete\n",
            "\n",
            " EE-bNr36nyA.mp4 :\n",
            "MP4 file is playable.\n",
            "video frames extraction complete\n",
            "Audio extraction complete\n",
            "\n",
            " eQu1rNs0an0.mp4 :\n",
            "MP4 file is playable.\n",
            "Audio extraction complete\n",
            "video frames extraction complete\n",
            "\n",
            " EYqVtI9YWJA.mp4 :\n",
            "MP4 file is playable.\n",
            "video frames extraction complete\n",
            "Audio extraction complete\n",
            "\n",
            " fWutDQy1nnY.mp4 :\n",
            "MP4 file is playable.\n",
            "video frames extraction complete\n",
            "Audio extraction complete\n",
            "\n",
            " GsAD1KT1xo8.mp4 :\n",
            "MP4 file is playable.\n",
            "video frames extraction complete\n",
            "Audio extraction complete\n",
            "\n",
            " gzDbaEs1Rlg.mp4 :\n",
            "MP4 file is playable.\n",
            "video frames extraction complete\n",
            "Audio extraction complete\n",
            "\n",
            " Hl-__g2gn_A.mp4 :\n",
            "MP4 file is playable.\n",
            "Audio extraction complete\n",
            "video frames extraction complete\n",
            "\n",
            " HT5vyqe0Xaw.mp4 :\n",
            "MP4 file is playable.\n",
            "video frames extraction complete\n",
            "Audio extraction complete\n",
            "\n",
            " i3wAGJaaktw.mp4 :\n",
            "MP4 file is playable.\n",
            "video frames extraction complete\n",
            "Audio extraction complete\n",
            "\n",
            " iVt07TCkFM0.mp4 :\n",
            "MP4 file is playable.\n",
            "video frames extraction complete\n",
            "Audio extraction complete\n",
            "\n",
            " J0nA4VgnoCo.mp4 :\n",
            "MP4 file is playable.\n",
            "video frames extraction complete\n",
            "Audio extraction complete\n",
            "\n",
            " jcoYJXDG9sw.mp4 :\n",
            "MP4 file is playable.\n",
            "Audio extraction complete\n",
            "video frames extraction complete\n",
            "\n",
            " JgHubY5Vw3Y.mp4 :\n",
            "MP4 file is playable.\n",
            "Audio extraction complete\n",
            "video frames extraction complete\n",
            "\n",
            " JKpqYvAdIsw.mp4 :\n",
            "MP4 file is playable.\n",
            "video frames extraction complete\n",
            "Audio extraction complete\n",
            "\n",
            " kLxoNp-UchI.mp4 :\n",
            "MP4 file is playable.\n",
            "video frames extraction complete\n",
            "Audio extraction complete\n",
            "\n",
            " LRw_obCPUt0.mp4 :\n",
            "MP4 file is playable.\n",
            "video frames extraction complete\n",
            "Audio extraction complete\n",
            "\n",
            " NyBmCxDoHJU.mp4 :\n",
            "MP4 file is playable.\n",
            "video frames extraction complete\n",
            "Audio extraction complete\n",
            "\n",
            " oDXZc0tZe04.mp4 :\n",
            "MP4 file is playable.\n",
            "video frames extraction complete\n",
            "Audio extraction complete\n",
            "\n",
            " PJrm840pAUI.mp4 :\n",
            "MP4 file is playable.\n",
            "video frames extraction complete\n",
            "Audio extraction complete\n",
            "\n",
            " qqR6AEXwxoQ.mp4 :\n",
            "MP4 file is playable.\n",
            "video frames extraction complete\n",
            "Audio extraction complete\n",
            "\n",
            " RBCABdttQmI.mp4 :\n",
            "MP4 file is playable.\n",
            "video frames extraction complete\n",
            "Audio extraction complete\n",
            "\n",
            " Se3oxnaPsz0.mp4 :\n",
            "MP4 file is playable.\n",
            "video frames extraction complete\n",
            "Audio extraction complete\n",
            "\n",
            " sTEELN-vY30.mp4 :\n",
            "MP4 file is playable.\n",
            "video frames extraction complete\n",
            "Audio extraction complete\n",
            "\n",
            " uGu_10sucQo.mp4 :\n",
            "MP4 file is playable.\n",
            "video frames extraction complete\n",
            "Audio extraction complete\n",
            "\n",
            " vdmoEJ5YbrQ.mp4 :\n",
            "MP4 file is playable.\n",
            "Audio extraction complete\n",
            "video frames extraction complete\n",
            "\n",
            " VuWGsYPqAX8.mp4 :\n",
            "MP4 file is playable.\n",
            "video frames extraction complete\n",
            "Audio extraction complete\n",
            "\n",
            " WG0MBPpPC6I.mp4 :\n",
            "MP4 file is playable.\n",
            "video frames extraction complete\n",
            "Audio extraction complete\n",
            "\n",
            " WxtbjNsCQ8A.mp4 :\n",
            "MP4 file is playable.\n",
            "Audio extraction complete\n",
            "video frames extraction complete\n",
            "\n",
            " XkqCExn6_Us.mp4 :\n",
            "MP4 file is playable.\n",
            "video frames extraction complete\n",
            "Audio extraction complete\n",
            "\n",
            " xmEERLqJ2kU.mp4 :\n",
            "MP4 file is playable.\n",
            "video frames extraction complete\n",
            "Audio extraction complete\n",
            "\n",
            " xwqBXPGE9pQ.mp4 :\n",
            "MP4 file is playable.\n",
            "video frames extraction complete\n",
            "Audio extraction complete\n",
            "\n",
            " xxdtq8mxegs.mp4 :\n",
            "MP4 file is playable.\n",
            "video frames extraction complete\n",
            "Audio extraction complete\n",
            "\n",
            " XzYM3PfTM4w.mp4 :\n",
            "MP4 file is playable.\n",
            "video frames extraction complete\n",
            "Audio extraction complete\n",
            "\n",
            " Yi4Ij2NM7U4.mp4 :\n",
            "MP4 file is playable.\n",
            "video frames extraction complete\n",
            "Audio extraction complete\n",
            "\n",
            " z_6gVvQb2d0.mp4 :\n",
            "MP4 file is playable.\n",
            "Audio extraction complete\n",
            "video frames extraction complete\n"
          ]
        }
      ]
    },
    {
      "cell_type": "code",
      "source": [],
      "metadata": {
        "id": "8dm6xiZoryBd"
      },
      "execution_count": null,
      "outputs": []
    },
    {
      "cell_type": "markdown",
      "source": [
        "### SumMe Dataset"
      ],
      "metadata": {
        "id": "EU_pPkFbQWbb"
      }
    },
    {
      "cell_type": "code",
      "source": [
        "# Extracting SumMe data\n",
        "os.chdir('/content/drive/MyDrive/')\n",
        "\n",
        "with ZipFile(\"SumMe.zip\", 'r') as zObject:\n",
        "    zObject.extractall( path= \"/content/drive/MyDrive/LLM_Project/SumMe\" )"
      ],
      "metadata": {
        "id": "6s-Gu18yryE-"
      },
      "execution_count": 27,
      "outputs": []
    },
    {
      "cell_type": "code",
      "source": [
        "# Getting list of videos\n",
        "video_path = '/content/drive/MyDrive/LLM_Project/SumMe/SumMe/videos/'\n",
        "videos=os.listdir(video_path)"
      ],
      "metadata": {
        "id": "EEIqe4FJRd73"
      },
      "execution_count": 7,
      "outputs": []
    },
    {
      "cell_type": "code",
      "source": [
        "# Extracting audio and frames from each video and storing in individual folders (This took around 8 min. Two of the videos were producing error when extracting. Will look into it)\n",
        "if __name__ == '__main__':\n",
        "  for video in videos:\n",
        "    if video.split('.')[1] == \"mp4\":\n",
        "      print(\"\\n\",video,\":\")\n",
        "      output_file_path_frames = '/content/drive/My Drive/LLM_Project/SumMe/SumMe/frames/'+video.split('.')[0]\n",
        "      output_file_path_audio = '/content/drive/My Drive/LLM_Project/SumMe/SumMe/audio'\n",
        "      if not os.path.exists(output_file_path_frames):\n",
        "        os.makedirs(output_file_path_frames)\n",
        "      if not os.path.exists(output_file_path_audio):\n",
        "        os.makedirs(output_file_path_audio)\n",
        "      await main(video_path+video, output_file_path_audio+'/'+video.split('.')[0]+'.mp3', output_file_path_frames)"
      ],
      "metadata": {
        "colab": {
          "base_uri": "https://localhost:8080/"
        },
        "id": "ZiD5d9krRd-S",
        "outputId": "2d8d79ab-64c5-4868-9ed2-20899f613752"
      },
      "execution_count": 14,
      "outputs": [
        {
          "output_type": "stream",
          "name": "stdout",
          "text": [
            "\n",
            " Air_Force_One.mp4 :\n",
            "MP4 file is playable.\n",
            "Audio extraction complete\n",
            "video frames extraction complete\n",
            "\n",
            " Base jumping.mp4 :\n",
            "MP4 file is playable.\n",
            "Audio extraction complete\n",
            "video frames extraction complete\n",
            "\n",
            " Bearpark_climbing.mp4 :\n",
            "MP4 file is playable.\n",
            "Audio extraction complete\n",
            "video frames extraction complete\n",
            "\n",
            " Bike Polo.mp4 :\n",
            "MP4 file is playable.\n",
            "Audio extraction complete\n",
            "video frames extraction complete\n",
            "\n",
            " Bus_in_Rock_Tunnel.mp4 :\n",
            "MP4 file is playable.\n",
            "Audio extraction complete\n",
            "video frames extraction complete\n",
            "\n",
            " car_over_camera.mp4 :\n",
            "MP4 file is playable.\n",
            "Audio extraction complete\n",
            "video frames extraction complete\n",
            "\n",
            " Car_railcrossing.mp4 :\n",
            "MP4 file is playable.\n",
            "Audio extraction complete\n",
            "video frames extraction complete\n",
            "\n",
            " Cockpit_Landing.mp4 :\n",
            "MP4 file is playable.\n",
            "Audio extraction complete\n",
            "video frames extraction complete\n",
            "\n",
            " Cooking.mp4 :\n",
            "MP4 file is playable.\n",
            "video frames extraction complete\n",
            "Audio extraction complete\n",
            "\n",
            " Eiffel Tower.mp4 :\n",
            "MP4 file is playable.\n",
            "Audio extraction complete\n",
            "video frames extraction complete\n",
            "\n",
            " Excavators river crossing.mp4 :\n",
            "MP4 file is playable.\n",
            "Audio extraction complete\n",
            "video frames extraction complete\n",
            "\n",
            " Fire Domino.mp4 :\n",
            "MP4 file is playable.\n",
            "video frames extraction complete\n",
            "Audio extraction complete\n",
            "\n",
            " Jumps.mp4 :\n",
            "MP4 file is playable.\n",
            "video frames extraction complete\n",
            "Audio extraction complete\n",
            "\n",
            " Kids_playing_in_leaves.mp4 :\n",
            "MP4 file is playable.\n",
            "Audio extraction complete\n",
            "video frames extraction complete\n",
            "\n",
            " Notre_Dame.mp4 :\n",
            "MP4 file is playable.\n",
            "Audio extraction complete\n",
            "video frames extraction complete\n",
            "\n",
            " Paintball.mp4 :\n",
            "MP4 file is playable.\n",
            "Audio extraction complete\n",
            "video frames extraction complete\n",
            "\n",
            " paluma_jump.mp4 :\n",
            "MP4 file is playable.\n",
            "Audio extraction complete\n",
            "video frames extraction complete\n",
            "\n",
            " playing_ball.mp4 :\n",
            "MP4 file is playable.\n",
            "Audio extraction complete\n",
            "video frames extraction complete\n",
            "\n",
            " Playing_on_water_slide.mp4 :\n",
            "MP4 file is playable.\n",
            "Audio extraction complete\n",
            "video frames extraction complete\n",
            "\n",
            " Saving dolphines.mp4 :\n",
            "MP4 file is playable.\n",
            "Audio extraction complete\n",
            "video frames extraction complete\n",
            "\n",
            " Scuba.mp4 :\n",
            "Error occurred: b'ffprobe version 4.4.2-0ubuntu0.22.04.1 Copyright (c) 2007-2021 the FFmpeg developers\\n  built with gcc 11 (Ubuntu 11.2.0-19ubuntu1)\\n  configuration: --prefix=/usr --extra-version=0ubuntu0.22.04.1 --toolchain=hardened --libdir=/usr/lib/x86_64-linux-gnu --incdir=/usr/include/x86_64-linux-gnu --arch=amd64 --enable-gpl --disable-stripping --enable-gnutls --enable-ladspa --enable-libaom --enable-libass --enable-libbluray --enable-libbs2b --enable-libcaca --enable-libcdio --enable-libcodec2 --enable-libdav1d --enable-libflite --enable-libfontconfig --enable-libfreetype --enable-libfribidi --enable-libgme --enable-libgsm --enable-libjack --enable-libmp3lame --enable-libmysofa --enable-libopenjpeg --enable-libopenmpt --enable-libopus --enable-libpulse --enable-librabbitmq --enable-librubberband --enable-libshine --enable-libsnappy --enable-libsoxr --enable-libspeex --enable-libsrt --enable-libssh --enable-libtheora --enable-libtwolame --enable-libvidstab --enable-libvorbis --enable-libvpx --enable-libwebp --enable-libx265 --enable-libxml2 --enable-libxvid --enable-libzimg --enable-libzmq --enable-libzvbi --enable-lv2 --enable-omx --enable-openal --enable-opencl --enable-opengl --enable-sdl2 --enable-pocketsphinx --enable-librsvg --enable-libmfx --enable-libdc1394 --enable-libdrm --enable-libiec61883 --enable-chromaprint --enable-frei0r --enable-libx264 --enable-shared\\n  libavutil      56. 70.100 / 56. 70.100\\n  libavcodec     58.134.100 / 58.134.100\\n  libavformat    58. 76.100 / 58. 76.100\\n  libavdevice    58. 13.100 / 58. 13.100\\n  libavfilter     7.110.100 /  7.110.100\\n  libswscale      5.  9.100 /  5.  9.100\\n  libswresample   3.  9.100 /  3.  9.100\\n  libpostproc    55.  9.100 / 55.  9.100\\n/content/drive/MyDrive/LLM_Project/SumMe/SumMe/videos/Scuba.mp4: No such file or directory\\n'\n",
            "Sorry! Can't process video. Please make sure the video file exists and is not corrupted.\n",
            "\n",
            " St Maarten Landing.mp4 :\n",
            "Error occurred: b'ffprobe version 4.4.2-0ubuntu0.22.04.1 Copyright (c) 2007-2021 the FFmpeg developers\\n  built with gcc 11 (Ubuntu 11.2.0-19ubuntu1)\\n  configuration: --prefix=/usr --extra-version=0ubuntu0.22.04.1 --toolchain=hardened --libdir=/usr/lib/x86_64-linux-gnu --incdir=/usr/include/x86_64-linux-gnu --arch=amd64 --enable-gpl --disable-stripping --enable-gnutls --enable-ladspa --enable-libaom --enable-libass --enable-libbluray --enable-libbs2b --enable-libcaca --enable-libcdio --enable-libcodec2 --enable-libdav1d --enable-libflite --enable-libfontconfig --enable-libfreetype --enable-libfribidi --enable-libgme --enable-libgsm --enable-libjack --enable-libmp3lame --enable-libmysofa --enable-libopenjpeg --enable-libopenmpt --enable-libopus --enable-libpulse --enable-librabbitmq --enable-librubberband --enable-libshine --enable-libsnappy --enable-libsoxr --enable-libspeex --enable-libsrt --enable-libssh --enable-libtheora --enable-libtwolame --enable-libvidstab --enable-libvorbis --enable-libvpx --enable-libwebp --enable-libx265 --enable-libxml2 --enable-libxvid --enable-libzimg --enable-libzmq --enable-libzvbi --enable-lv2 --enable-omx --enable-openal --enable-opencl --enable-opengl --enable-sdl2 --enable-pocketsphinx --enable-librsvg --enable-libmfx --enable-libdc1394 --enable-libdrm --enable-libiec61883 --enable-chromaprint --enable-frei0r --enable-libx264 --enable-shared\\n  libavutil      56. 70.100 / 56. 70.100\\n  libavcodec     58.134.100 / 58.134.100\\n  libavformat    58. 76.100 / 58. 76.100\\n  libavdevice    58. 13.100 / 58. 13.100\\n  libavfilter     7.110.100 /  7.110.100\\n  libswscale      5.  9.100 /  5.  9.100\\n  libswresample   3.  9.100 /  3.  9.100\\n  libpostproc    55.  9.100 / 55.  9.100\\n/content/drive/MyDrive/LLM_Project/SumMe/SumMe/videos/St Maarten Landing.mp4: No such file or directory\\n'\n",
            "Sorry! Can't process video. Please make sure the video file exists and is not corrupted.\n",
            "\n",
            " Statue of Liberty.mp4 :\n",
            "MP4 file is playable.\n",
            "video frames extraction complete\n",
            "Audio extraction complete\n",
            "\n",
            " Valparaiso_Downhill.mp4 :\n",
            "MP4 file is playable.\n",
            "Audio extraction complete\n",
            "video frames extraction complete\n"
          ]
        }
      ]
    }
  ]
}