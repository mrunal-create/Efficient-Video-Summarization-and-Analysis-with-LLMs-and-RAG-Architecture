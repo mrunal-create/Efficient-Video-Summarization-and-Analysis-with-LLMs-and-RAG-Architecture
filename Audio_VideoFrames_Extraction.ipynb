{
  "nbformat": 4,
  "nbformat_minor": 0,
  "metadata": {
    "colab": {
      "provenance": []
    },
    "kernelspec": {
      "name": "python3",
      "display_name": "Python 3"
    },
    "language_info": {
      "name": "python"
    }
  },
  "cells": [
    {
      "cell_type": "code",
      "execution_count": null,
      "metadata": {
        "id": "RdVfgUs2TUmR"
      },
      "outputs": [],
      "source": [
        "!pip install moviepy --quiet"
      ]
    },
    {
      "cell_type": "code",
      "source": [
        "!pip install pytube ffmpeg-python --quiet"
      ],
      "metadata": {
        "colab": {
          "base_uri": "https://localhost:8080/"
        },
        "id": "eWWO1qihYzOD",
        "outputId": "b8fa6331-445a-45db-f4a3-28bea6581720"
      },
      "execution_count": null,
      "outputs": [
        {
          "output_type": "stream",
          "name": "stdout",
          "text": [
            "\u001b[?25l     \u001b[90m━━━━━━━━━━━━━━━━━━━━━━━━━━━━━━━━━━━━━━━━\u001b[0m \u001b[32m0.0/57.6 kB\u001b[0m \u001b[31m?\u001b[0m eta \u001b[36m-:--:--\u001b[0m\r\u001b[2K     \u001b[90m━━━━━━━━━━━━━━━━━━━━━━━━━━━━━━━━━━━━━━━━\u001b[0m \u001b[32m57.6/57.6 kB\u001b[0m \u001b[31m2.2 MB/s\u001b[0m eta \u001b[36m0:00:00\u001b[0m\n",
            "\u001b[?25h"
          ]
        }
      ]
    },
    {
      "cell_type": "code",
      "source": [
        "!pip install asyncffmpeg --quiet"
      ],
      "metadata": {
        "id": "Yp0OHdniVN-t"
      },
      "execution_count": null,
      "outputs": []
    },
    {
      "cell_type": "code",
      "source": [
        "!pip install asynccpu --quiet"
      ],
      "metadata": {
        "id": "w_8hmzFHVW2D"
      },
      "execution_count": null,
      "outputs": []
    },
    {
      "cell_type": "code",
      "source": [
        "#!pip install Office365-REST-Python-Client"
      ],
      "metadata": {
        "id": "ZejtboJiksa-"
      },
      "execution_count": null,
      "outputs": []
    },
    {
      "cell_type": "code",
      "source": [
        "#!pip install requests_ntlm"
      ],
      "metadata": {
        "id": "zvLmJ-jso5XM"
      },
      "execution_count": null,
      "outputs": []
    },
    {
      "cell_type": "code",
      "source": [
        "#!pip uninstall ffmpeg ffmpeg-python"
      ],
      "metadata": {
        "id": "BdoegJSmawoS"
      },
      "execution_count": null,
      "outputs": []
    },
    {
      "cell_type": "code",
      "source": [
        "from pytube import YouTube\n",
        "import ffmpeg\n",
        "import requests\n",
        "from urllib.parse import urlparse\n",
        "import requests\n",
        "from bs4 import BeautifulSoup\n",
        "import json\n",
        "import os\n",
        "import warnings\n",
        "warnings.filterwarnings('ignore')\n",
        "from moviepy.editor import *\n",
        "import concurrent.futures\n",
        "from multiprocessing import process\n",
        "from threading import Thread\n",
        "from asynccpu import ProcessTaskPoolExecutor\n",
        "from asyncffmpeg import FFmpegCoroutineFactory, StreamSpec\n",
        "import asyncio\n"
      ],
      "metadata": {
        "id": "BfEHEnZYgdDB"
      },
      "execution_count": null,
      "outputs": []
    },
    {
      "cell_type": "code",
      "source": [
        "from google.colab import drive\n",
        "\n",
        "drive.mount('/content/drive')"
      ],
      "metadata": {
        "colab": {
          "base_uri": "https://localhost:8080/"
        },
        "id": "kyirQH1PVpeF",
        "outputId": "9667f699-800f-4c49-d4fc-c8aa74b4a2e7"
      },
      "execution_count": null,
      "outputs": [
        {
          "output_type": "stream",
          "name": "stdout",
          "text": [
            "Mounted at /content/drive\n"
          ]
        }
      ]
    },
    {
      "cell_type": "code",
      "source": [
        "def is_mp4_playable(file_path):\n",
        "  try:\n",
        "      # Probe the file to get information about it\n",
        "      probe = ffmpeg.probe(file_path)\n",
        "      # Check if the file format is recognized as video\n",
        "      if 'streams' in probe and any(stream['codec_type'] == 'video' for stream in probe['streams']):\n",
        "          print(\"MP4 file is playable.\")\n",
        "          return True\n",
        "      else:\n",
        "          print(\"MP4 file is corrupt or non-playable.\")\n",
        "          return False\n",
        "  except ffmpeg.Error as e:\n",
        "      #print(\"Error occurred:\", e.stderr)\n",
        "      return False"
      ],
      "metadata": {
        "id": "PeH9-VU-43Jx"
      },
      "execution_count": null,
      "outputs": []
    },
    {
      "cell_type": "code",
      "source": [
        "def extract_audio(video_url, output_folder):\n",
        "  if output_folder:\n",
        "    audio, err = (\n",
        "      ffmpeg\n",
        "      .input(video_url)\n",
        "      .output(\"pipe:\", format='mp3', acodec='libmp3lame', audio_bitrate='320k')\n",
        "      .run(capture_stdout=True)\n",
        "    )\n",
        "    with open(output_folder, 'wb') as f:\n",
        "        f.write(audio)\n",
        "    print(\"Audio extraction complete\")\n",
        "  else:\n",
        "    print(\"Audio extraction not done - no output file given\")"
      ],
      "metadata": {
        "id": "NZp5Ds-X6jlE"
      },
      "execution_count": null,
      "outputs": []
    },
    {
      "cell_type": "code",
      "source": [
        "def extract_frames(video_url, output_folder, fps=0.2):\n",
        "  if output_folder:\n",
        "    (\n",
        "        ffmpeg\n",
        "        .input(video_url)\n",
        "        .filter('fps', fps=fps)\n",
        "        .output(output_folder + '/frame%d.png', **{'qscale:v': 2})\n",
        "        .run()\n",
        "    )\n",
        "    print(\"video frames extraction complete\")\n",
        "  else:\n",
        "    print(\"Video frames extraction not done - no output file given\")"
      ],
      "metadata": {
        "id": "XiO2YqM1zw2h"
      },
      "execution_count": null,
      "outputs": []
    },
    {
      "cell_type": "code",
      "source": [
        "def process_video(link):\n",
        "\n",
        "  if len(urlparse(link).netloc) > 0:\n",
        "    if urlparse(link).netloc == \"www.youtube.com\":\n",
        "      yt = YouTube(link)\n",
        "      video_path = yt.streams[0].url\n",
        "      return video_path\n",
        "\n",
        "    elif urlparse(link).netloc == \"www.linkedin.com\":\n",
        "      r = requests.get(link)\n",
        "      soup = BeautifulSoup(r.content, 'html.parser')\n",
        "      data_linkedin = json.loads(soup.find('script', type='application/ld+json').text)\n",
        "      if data_linkedin['isAccessibleForFree'] == True:\n",
        "        video_path = json.loads(soup.video['data-sources'])[0]['src']\n",
        "        return video_path\n",
        "      else:\n",
        "        print(\"Sorry! Can't process video. Please make sure the video is free for access.\")\n",
        "        return\n",
        "\n",
        "    elif urlparse(link).netloc == \"www.coursera.org\":\n",
        "      r = requests.get(link)\n",
        "      soup = BeautifulSoup(r.content, 'html.parser')\n",
        "      data_coursera = json.loads(soup.find('script', type='application/ld+json').text)\n",
        "      video_path = data_coursera['@graph'][1]['contentURL']\n",
        "      return video_path\n",
        "\n",
        "    else:\n",
        "      print(\"Sorry! Can't process video. Please make sure the video link is valid.\")\n",
        "      return\n",
        "\n",
        "  else:\n",
        "    if(is_mp4_playable(link)):\n",
        "      video_path = link\n",
        "      return video_path\n",
        "    else:\n",
        "      print(\"Sorry! Can't process video. Please make sure the video file exists and is not corrupted.\")\n",
        "      return"
      ],
      "metadata": {
        "id": "rTYlQqzzYw2w"
      },
      "execution_count": null,
      "outputs": []
    },
    {
      "cell_type": "code",
      "source": [
        "async def main(video_link, output_file_path_audio,output_file_path_frames):\n",
        "\n",
        "  video_path = process_video(video_link)\n",
        "  if video_path:\n",
        "      awaitables = [\n",
        "            asyncio.to_thread(extract_audio, video_path, output_file_path_audio),\n",
        "            asyncio.to_thread(extract_frames, video_path, output_file_path_frames)\n",
        "      ]\n",
        "      await asyncio.gather(*awaitables)"
      ],
      "metadata": {
        "id": "CxiKLYi-k2lL"
      },
      "execution_count": null,
      "outputs": []
    },
    {
      "cell_type": "code",
      "source": [
        "if __name__ == '__main__':\n",
        "  video_link=input(\"Video link: \")\n",
        "  output_file_path_audio=input(\"MP3 file path to store audio: \")\n",
        "  output_file_path_frames=input(\"Folder path to store video frames: \")\n",
        "  await main(video_link, output_file_path_audio,output_file_path_frames)"
      ],
      "metadata": {
        "colab": {
          "base_uri": "https://localhost:8080/"
        },
        "id": "vzYJCE8pk4ll",
        "outputId": "162b4448-f2de-49a2-88d1-77d8019057bf"
      },
      "execution_count": null,
      "outputs": [
        {
          "output_type": "stream",
          "name": "stdout",
          "text": [
            "https://www.youtube.com/watch?v=Pu5CNKweuHw\n",
            "/content/drive/My Drive/LLM_Project/youtube_audio_2.mp3\n",
            "/content/drive/My Drive/LLM_Project/frames\n",
            "video frames extraction complete\n",
            "Audio extraction complete\n"
          ]
        }
      ]
    },
    {
      "cell_type": "code",
      "source": [
        "# # Invalid URL\n",
        "# process_video(\"https://exampleurl\",'/content/drive/My Drive/LLM_Project/link_audio.mp3')\n",
        "# # Youtube\n",
        "# process_video(\"https://www.youtube.com/shorts/ThR0tcH37bs\",output_file_path_audio='/content/drive/My Drive/LLM_Project/youtube_audio.mp3',\n",
        "#               output_file_path_frames=\"/content/drive/My Drive/LLM_Project/video_frames\")\n",
        "# # Linkedin free course\n",
        "# process_video(\"https://www.linkedin.com/learning/administrative-professional-weekly-tips/managing-morale-in-your-office?&u=74653650\",\n",
        "#               output_file_path_audio='/content/drive/My Drive/LLM_Project/linkedin_audio_free.mp3',frames_extraction=False)\n",
        "# # Linkedin non-free course\n",
        "# process_video(\"https://www.linkedin.com/learning/tableau-for-data-scientists/solution-connecting-to-data?resume=false&u=74653650\",\n",
        "#               output_file_path_audio='/content/drive/My Drive/LLM_Project/linkedin_audio_paid.mp3',frames_extraction=False)\n",
        "# # Coursera free course\n",
        "# process_video(\"https://www.coursera.org/learn/the-science-of-well-being/lecture/yaNZk/part-2-goal-setting\",\n",
        "#               output_file_path_frames=\"/content/drive/My Drive/LLM_Project/video_frames\",audio_extraction=False)\n",
        "# # Uploaded MP4 video file - correct\n",
        "# process_video(\"/content/drive/My Drive/LLM_Project/LLM_lecture.mp4\",output_file_path_audio='/content/drive/My Drive/LLM_Project/uploaded_MP4_audio_1.mp3',frames_extraction=False)\n",
        "# # Uploaded MP4 video file - path doesn't exist\n",
        "# process_video(\"/content/drive/My Drive/LLM_Project/LLM_lecture.mp3\",'/content/drive/My Drive/LLM_Project/uploaded_MP4_audio.mp3')\n",
        "# # Uploaded MP4 video file - corrupt/non-playable file\n",
        "# process_video(\"/content/drive/My Drive/LLM_Project/empty_video.mp4\",'/content/drive/My Drive/LLM_Project/uploaded_MP4_audio.mp3')"
      ],
      "metadata": {
        "id": "u9hsxNAsBJO7"
      },
      "execution_count": null,
      "outputs": []
    }
  ]
}